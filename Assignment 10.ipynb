{
 "cells": [
  {
   "cell_type": "markdown",
   "id": "910fdf4b-fc70-45ee-97bb-e798651127a9",
   "metadata": {},
   "source": [
    "Q1. What is a lambda function in Python, and how does it differ from a regular function?"
   ]
  },
  {
   "cell_type": "markdown",
   "id": "527a52e5-c2cd-4894-932e-3b9b2da7dd97",
   "metadata": {},
   "source": [
    "Ans a lambda function is a small anonymous function that can be defined without a name. It is also known as an anonymous function because it does not require a def statement to define it. Instead, it uses the lambda keyword.\n"
   ]
  },
  {
   "cell_type": "markdown",
   "id": "b9e6f0b8-787a-4fb9-b890-f1c9ff46297a",
   "metadata": {},
   "source": [
    "#Expression \n",
    "lambda arguments: expression"
   ]
  },
  {
   "cell_type": "markdown",
   "id": "6bf733a8-74da-4487-abcf-4452fb364d59",
   "metadata": {},
   "source": [
    "in a lambda function:\n",
    "\n",
    "\"lambda\" is the keyword used to define the function.\n",
    "\"arguments\" are the input parameters (optional) that the function takes.\n",
    "\"expression\" is a single expression that is executed when the function is called, and its result is returned.\n",
    "Lambda functions are typically used when you need a simple function for a short duration and you don't want to define a separate named function. They are commonly used in combination with higher-order functions like map(), filter(), and reduce().\n",
    "\n",
    "Here's an example to illustrate the difference between a lambda function and a regular function. Let's say we want to write a function that adds two numbers:"
   ]
  },
  {
   "cell_type": "code",
   "execution_count": 2,
   "id": "e621cb59-5e6d-4258-819d-f736720c3718",
   "metadata": {},
   "outputs": [],
   "source": [
    "#example\n",
    "def add(x, y):\n",
    "    return x + y"
   ]
  },
  {
   "cell_type": "code",
   "execution_count": 3,
   "id": "e13ab4d3-c597-447d-bed3-1b0fdb20f5c6",
   "metadata": {},
   "outputs": [],
   "source": [
    "#lambda function\n",
    "add = lambda x, y: x + y"
   ]
  },
  {
   "cell_type": "markdown",
   "id": "7e84d814-2f1e-4e5a-90e9-ddbbc370e12d",
   "metadata": {},
   "source": [
    "Q2. Can a lambda function in Python have multiple arguments? If yes, how can you define and use\n",
    "them?"
   ]
  },
  {
   "cell_type": "markdown",
   "id": "a27fe86f-1a0c-44d2-ac56-5f6f6f8f198a",
   "metadata": {},
   "source": [
    "Ans  a lambda function in Python can have multiple arguments. In fact, lambda functions can take any number of arguments, separated by commas, just like regular functions."
   ]
  },
  {
   "cell_type": "markdown",
   "id": "1ae0553e-32d7-47bf-bf4f-8954c951289d",
   "metadata": {},
   "source": [
    "#syntax for defining a lambda function with multiple arguments:\n",
    "lambda arg1, arg2, arg3, ... : expression"
   ]
  },
  {
   "cell_type": "markdown",
   "id": "99ae132f-b2be-44dd-b804-8098a405921d",
   "metadata": {},
   "source": [
    "You can define as many arguments as you need, and the expression represents the body of the lambda function. The lambda function will take the specified arguments and evaluate the expression to return a result."
   ]
  },
  {
   "cell_type": "code",
   "execution_count": 5,
   "id": "f6bb08ca-706d-4e7c-9302-a0fa96d5b8d6",
   "metadata": {},
   "outputs": [
    {
     "name": "stdout",
     "output_type": "stream",
     "text": [
      "8\n"
     ]
    }
   ],
   "source": [
    "# Lambda function to calculate the sum of two numbers\n",
    "sum_func = lambda x, y: x + y\n",
    "\n",
    "# Using the lambda function\n",
    "result = sum_func(3, 5)\n",
    "print(result)  # Output: 8"
   ]
  },
  {
   "cell_type": "markdown",
   "id": "eab9f3c4-1cf0-4f31-9890-8b2cf15077d0",
   "metadata": {},
   "source": [
    "Q3. How are lambda functions typically used in Python? Provide an example use case."
   ]
  },
  {
   "cell_type": "markdown",
   "id": "91cff00a-f24c-4b7a-8d7f-6b067669f369",
   "metadata": {},
   "source": [
    "Ans  In Python, lambda functions, also known as anonymous functions, are small, one-line functions that don't require a formal definition using the def keyword. They are typically used in situations where you need a simple function for a short period of time and don't want to define a full-fledged function."
   ]
  },
  {
   "cell_type": "code",
   "execution_count": 7,
   "id": "2fc3ccb7-051d-47b7-998f-049a20b4e4ba",
   "metadata": {},
   "outputs": [
    {
     "name": "stdout",
     "output_type": "stream",
     "text": [
      "[('banana', 2), ('kiwi', 3), ('apple', 5), ('orange', 8)]\n"
     ]
    }
   ],
   "source": [
    "# Sorting a list of tuples based on a specific element of each tuple\n",
    "fruits = [('apple', 5), ('banana', 2), ('orange', 8), ('kiwi', 3)]\n",
    "\n",
    "# Sort the list based on the second element of each tuple\n",
    "sorted_fruits = sorted(fruits, key=lambda x: x[1])\n",
    "print(sorted_fruits)"
   ]
  },
  {
   "cell_type": "markdown",
   "id": "71bc2154-c06f-44d2-aa8e-93ba6478194c",
   "metadata": {},
   "source": [
    "Q 4. What are the advantages and limitations of lambda functions compared to regular functions in\n",
    "Python?"
   ]
  },
  {
   "cell_type": "markdown",
   "id": "4dca29c1-1c98-4081-8f76-06e3831fc557",
   "metadata": {},
   "source": [
    "Ans  Advantages of Lambda Functions:\n",
    "\n",
    " 1.Concise syntax: Lambda functions allow you to define simple, one-line functions without the need for a formal function definition. This concise syntax can be useful for writing small, throwaway functions.\n",
    "Example: double = lambda x: x * 2\n",
    "\n",
    " 2.Readability and clarity: Lambda functions can make code more readable and expressive when used appropriately. For instance, if you're passing a simple function as an argument to another function, using a lambda function can often make the code more concise and easier to understand.\n",
    "\n",
    " 3.Inline usage: Lambda functions can be used directly in places where a function is expected, such as within higher-order functions like map(), filter(), and reduce(). This inline usage saves you from the need to define a named function separately.\n",
    "\n",
    " 4.Encapsulation: Lambda functions are self-contained and encapsulated within the expression where they are defined. They can capture and remember the values of variables from their surrounding scope (lexical closure).\n",
    "\n",
    "Limitations of Lambda Functions:\n",
    "\n",
    " 1.Limited functionality: Lambda functions are restricted to one expression only. They are primarily used for simple operations and not suitable for complex or multi-line functions. If you need to perform more complex logic or require multiple statements, it's better to use regular functions.\n",
    "\n",
    " 2.Lack of name: Lambda functions are anonymous, meaning they do not have a name associated with them. This can make code harder to debug and read when lambda functions become more complex or are used in multiple places.\n",
    "\n",
    " 3.Reduced reusability: Since lambda functions are anonymous, they cannot be reused in multiple parts of your codebase. If you have a piece of functionality that needs to be reused, it's better to define a regular named function that can be easily called from different parts of your code.\n",
    "\n",
    " 4.Limited documentation: Regular functions allow you to provide docstrings to document their purpose, arguments, and behavior. Lambda functions lack this feature, making it more difficult to document their functionality and intent."
   ]
  },
  {
   "cell_type": "markdown",
   "id": "4381d1ee-6476-4daf-af66-93d8cb5e79ae",
   "metadata": {},
   "source": [
    "Q5. Are lambda functions in Python able to access variables defined outside of their own scope?\n",
    "Explain with an example."
   ]
  },
  {
   "cell_type": "markdown",
   "id": "8fb075ce-b01f-48ff-92b4-914a19cf130f",
   "metadata": {},
   "source": [
    "Anslambda functions in Python are able to access variables defined outside of their own scope. This is because lambda functions have access to the variables in the surrounding scope where they are defined, which is known as lexical scoping or closure."
   ]
  },
  {
   "cell_type": "code",
   "execution_count": 8,
   "id": "ead14a2b-f594-41ac-b315-a03beb827a05",
   "metadata": {},
   "outputs": [
    {
     "name": "stdout",
     "output_type": "stream",
     "text": [
      "15\n"
     ]
    }
   ],
   "source": [
    "def outer_function():\n",
    "    x = 10\n",
    "    \n",
    "    # Define a lambda function inside the outer function\n",
    "    lambda_function = lambda y: x + y\n",
    "    \n",
    "    return lambda_function\n",
    "\n",
    "# Call the outer function to get the lambda function\n",
    "my_lambda = outer_function()\n",
    "\n",
    "# Call the lambda function and pass an argument\n",
    "result = my_lambda(5)\n",
    "\n",
    "print(result)  # Output: 15"
   ]
  },
  {
   "cell_type": "markdown",
   "id": "87b5462c-6944-49ca-a491-68664ba46f80",
   "metadata": {},
   "source": [
    "Q6. Write a lambda function to calculate the square of a given number."
   ]
  },
  {
   "cell_type": "code",
   "execution_count": 10,
   "id": "e4ef06a6-154d-469c-9792-40a3cef84b00",
   "metadata": {},
   "outputs": [
    {
     "name": "stdout",
     "output_type": "stream",
     "text": [
      "25\n"
     ]
    }
   ],
   "source": [
    "square = lambda x: x**2\n",
    "print(square(5))"
   ]
  },
  {
   "cell_type": "markdown",
   "id": "0293f288-4e93-4ff0-85d2-1ed03925e264",
   "metadata": {},
   "source": [
    "Q7. Create a lambda function to find the maximum value in a list of integers."
   ]
  },
  {
   "cell_type": "code",
   "execution_count": 11,
   "id": "43ea9ee5-a331-40fb-82e5-1e845956650f",
   "metadata": {},
   "outputs": [
    {
     "name": "stdout",
     "output_type": "stream",
     "text": [
      "10\n"
     ]
    }
   ],
   "source": [
    "find_max = lambda lst: max(lst)\n",
    "\n",
    "# Example usage\n",
    "numbers = [5, 10, 3, 8, 1]\n",
    "maximum = find_max(numbers)\n",
    "print(maximum)"
   ]
  },
  {
   "cell_type": "markdown",
   "id": "42d4b3f2-7e19-494c-ac96-c5cee652e454",
   "metadata": {},
   "source": [
    "Q8. Implement a lambda function to filter out all the even numbers from a list of integers."
   ]
  },
  {
   "cell_type": "code",
   "execution_count": 12,
   "id": "53a3aaa6-d3b8-4f4b-9958-78f14bc3b6fb",
   "metadata": {},
   "outputs": [
    {
     "name": "stdout",
     "output_type": "stream",
     "text": [
      "[1, 3, 5, 7, 9]\n"
     ]
    }
   ],
   "source": [
    "numbers = [1, 2, 3, 4, 5, 6, 7, 8, 9, 10]\n",
    "\n",
    "filtered_numbers = list(filter(lambda x: x % 2 != 0, numbers))\n",
    "print(filtered_numbers)"
   ]
  },
  {
   "cell_type": "markdown",
   "id": "d0201b31-f079-4481-baba-af443d968a57",
   "metadata": {},
   "source": [
    "Q9. Write a lambda function to sort a list of strings in ascending order based on the length of each\n",
    "string."
   ]
  },
  {
   "cell_type": "code",
   "execution_count": 13,
   "id": "a25dc5f0-24ea-40cc-8b40-619e7032230f",
   "metadata": {},
   "outputs": [
    {
     "name": "stdout",
     "output_type": "stream",
     "text": [
      "['date', 'apple', 'banana', 'cherry']\n"
     ]
    }
   ],
   "source": [
    "strings = [\"apple\", \"banana\", \"cherry\", \"date\"]\n",
    "\n",
    "sorted_strings = sorted(strings, key=lambda x: len(x))\n",
    "print(sorted_strings)"
   ]
  },
  {
   "cell_type": "markdown",
   "id": "315f9ed1-27b1-4ec0-adce-fc690fdf0c89",
   "metadata": {},
   "source": [
    "Q10. Create a lambda function that takes two lists as input and returns a new list containing the\n",
    "common elements between the two lists."
   ]
  },
  {
   "cell_type": "code",
   "execution_count": 15,
   "id": "0f521970-a5a1-4d9d-8109-d802ea460bad",
   "metadata": {},
   "outputs": [
    {
     "name": "stdout",
     "output_type": "stream",
     "text": [
      "[4, 5]\n"
     ]
    }
   ],
   "source": [
    "common_elements = lambda list1, list2: list(set(list1) & set(list2))\n",
    "list1= [1, 2, 3, 4, 5]\n",
    "list2 = [4, 5, 6, 7, 8]\n",
    "result = common_elements(list1, list2)\n",
    "print(result)  # Output: [4, 5]"
   ]
  },
  {
   "cell_type": "markdown",
   "id": "4ad2894d-1f67-473e-85b2-f274d34891bf",
   "metadata": {},
   "source": [
    "Q 11.Write a recursive function to calculate the factorial of a given positive integer."
   ]
  },
  {
   "cell_type": "code",
   "execution_count": 18,
   "id": "c5e2973f-e941-41d7-8a21-d01167557436",
   "metadata": {},
   "outputs": [
    {
     "name": "stdout",
     "output_type": "stream",
     "text": [
      "The factorial of 5 is 120\n"
     ]
    }
   ],
   "source": [
    "def factorial(n):\n",
    "    if n == 0:\n",
    "        return 1\n",
    "    else:\n",
    "        return n * factorial(n - 1)\n",
    "number = 5\n",
    "result = factorial(number)\n",
    "print(\"The factorial of\", number, \"is\", result)"
   ]
  },
  {
   "cell_type": "markdown",
   "id": "7d31b9e2-6250-4697-97ab-206f9c152bac",
   "metadata": {},
   "source": [
    "Q12. Implement a recursive function to compute the nth Fibonacci number."
   ]
  },
  {
   "cell_type": "code",
   "execution_count": 20,
   "id": "95ad4ebe-e1d9-41a4-82ae-46deed10d108",
   "metadata": {},
   "outputs": [
    {
     "name": "stdout",
     "output_type": "stream",
     "text": [
      "The 10th Fibonacci number is: 34\n"
     ]
    }
   ],
   "source": [
    "def fibonacci(n):\n",
    "    if n <= 0:\n",
    "        raise ValueError(\"Input must be a positive integer.\")\n",
    "    elif n == 1:\n",
    "        return 0\n",
    "    elif n == 2:\n",
    "        return 1\n",
    "    else:\n",
    "        return fibonacci(n - 1) + fibonacci(n - 2)\n",
    "n = 10\n",
    "fib_number = fibonacci(n)\n",
    "print(f\"The {n}th Fibonacci number is: {fib_number}\")"
   ]
  },
  {
   "cell_type": "markdown",
   "id": "d4c45a35-b8c8-407c-b12f-e5c83b6f7943",
   "metadata": {},
   "source": [
    "Q13. Create a recursive function to find the sum of all the elements in a given list."
   ]
  },
  {
   "cell_type": "code",
   "execution_count": 22,
   "id": "a0c8a2e2-66bd-4f35-837e-dce5c28e8d19",
   "metadata": {},
   "outputs": [
    {
     "name": "stdout",
     "output_type": "stream",
     "text": [
      "15\n"
     ]
    }
   ],
   "source": [
    "def recursive_sum(lst):\n",
    "    if len(lst) == 0:\n",
    "        return 0\n",
    "    else:\n",
    "        return lst[0] + recursive_sum(lst[1:])\n",
    "my_list = [1, 2, 3, 4, 5]\n",
    "result = recursive_sum(my_list)\n",
    "print(result)  # Output: 15"
   ]
  },
  {
   "cell_type": "markdown",
   "id": "aa7a3fd8-6c63-4317-8094-2453ca5f5620",
   "metadata": {},
   "source": [
    "Q14. Write a recursive function to determine whether a given string is a palindrome."
   ]
  },
  {
   "cell_type": "code",
   "execution_count": 23,
   "id": "1942cb93-9922-4e7d-a2f2-1e6a4d4e2bbe",
   "metadata": {},
   "outputs": [
    {
     "name": "stdout",
     "output_type": "stream",
     "text": [
      "True\n",
      "False\n",
      "True\n",
      "True\n",
      "False\n"
     ]
    }
   ],
   "source": [
    "def is_palindrome(s):\n",
    "    if len(s) <= 1:\n",
    "        return True\n",
    "    if s[0] == s[-1]:\n",
    "        return is_palindrome(s[1:-1])\n",
    "    else:\n",
    "        return False\n",
    "print(is_palindrome(\"radar\"))  # Output: True\n",
    "print(is_palindrome(\"hello\"))  # Output: False\n",
    "print(is_palindrome(\"madam\"))  # Output: True\n",
    "print(is_palindrome(\"level\"))  # Output: True\n",
    "print(is_palindrome(\"openai\")) # Output: False"
   ]
  },
  {
   "cell_type": "code",
   "execution_count": null,
   "id": "ce880b84-d2c7-4d31-b183-b3095b575dc9",
   "metadata": {},
   "outputs": [],
   "source": []
  }
 ],
 "metadata": {
  "kernelspec": {
   "display_name": "Python 3 (ipykernel)",
   "language": "python",
   "name": "python3"
  },
  "language_info": {
   "codemirror_mode": {
    "name": "ipython",
    "version": 3
   },
   "file_extension": ".py",
   "mimetype": "text/x-python",
   "name": "python",
   "nbconvert_exporter": "python",
   "pygments_lexer": "ipython3",
   "version": "3.10.6"
  }
 },
 "nbformat": 4,
 "nbformat_minor": 5
}
